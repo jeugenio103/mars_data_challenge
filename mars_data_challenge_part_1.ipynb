{
 "cells": [
  {
   "cell_type": "code",
   "execution_count": 1,
   "metadata": {},
   "outputs": [],
   "source": [
    "#Dependencies\n",
    "from splinter import Browser\n",
    "from bs4 import BeautifulSoup\n",
    "from webdriver_manager.chrome import ChromeDriverManager"
   ]
  },
  {
   "cell_type": "code",
   "execution_count": 2,
   "metadata": {},
   "outputs": [],
   "source": [
    "# Setup splinter\n",
    "executable_path = {'executable_path': ChromeDriverManager().install()}\n",
    "browser = Browser('chrome', **executable_path, headless=False)"
   ]
  },
  {
   "cell_type": "code",
   "execution_count": 3,
   "metadata": {},
   "outputs": [],
   "source": [
    "#Url and Browser\n",
    "url = 'https://redplanetscience.com/'\n",
    "browser.visit(url)"
   ]
  },
  {
   "cell_type": "code",
   "execution_count": 4,
   "metadata": {},
   "outputs": [],
   "source": [
    "#Initializing Lists\n",
    "title_list = []\n",
    "preview_list = []"
   ]
  },
  {
   "cell_type": "code",
   "execution_count": 5,
   "metadata": {},
   "outputs": [],
   "source": [
    "#Soup \n",
    "html = browser.html\n",
    "soup = BeautifulSoup(html, 'html.parser')\n",
    "\n",
    "titles = soup.find_all('div', class_='content_title')\n",
    "previews = soup.find_all('div', class_='article_teaser_body')\n",
    "\n",
    "#Appending into lists\n",
    "for title in titles:\n",
    "    title_list.append(title.text)\n",
    "\n",
    "for preview in previews:\n",
    "    preview_list.append(preview.text)\n"
   ]
  },
  {
   "cell_type": "code",
   "execution_count": 44,
   "metadata": {},
   "outputs": [
    {
     "name": "stdout",
     "output_type": "stream",
     "text": [
      "[{'title': \"8 Martian Postcards to Celebrate Curiosity's Landing Anniversary\", 'preview': 'The NASA rover touched down eight years ago, on Aug. 5, 2012, and will soon be joined by a second rover, Perseverance.'}, {'title': 'Two of a Space Kind: Apollo 12 and Mars 2020', 'preview': 'Apollo 12 and the upcoming Mars 2020 mission may be separated by half a century, but they share several goals unique in the annals of space exploration.'}, {'title': \"NASA Readies Perseverance Mars Rover's Earthly Twin \", 'preview': \"Did you know NASA's next Mars rover has a nearly identical sibling on Earth for testing? Even better, it's about to roll for the first time through a replica Martian landscape.\"}, {'title': \"3 Things We've Learned From NASA's Mars InSight \", 'preview': 'Scientists are finding new mysteries since the geophysics mission landed two years ago.'}, {'title': \"NASA's Perseverance Rover Attached to Atlas V Rocket\", 'preview': 'Ready for its launch later in the month, the Mars-bound rover will touch terra firma no more.'}, {'title': \"NASA-JPL Names 'Rolling Stones Rock' on Mars\", 'preview': \"NASA's Mars InSight mission honored one of the biggest bands of all time at Pasadena concert.\"}, {'title': 'Mars Scientists Investigate Ancient Life in Australia', 'preview': \"Teams with NASA's Mars 2020 and ESA's ExoMars practiced hunting for fossilized microbial life in the Australian Outback in preparation for their Red Planet missions. \"}, {'title': 'The MarCO Mission Comes to an End', 'preview': 'The pair of briefcase-sized satellites made history when they sailed past Mars in 2019.'}, {'title': 'With Mars Methane Mystery Unsolved, Curiosity Serves Scientists a New One: Oxygen', 'preview': 'For the first time in the history of space exploration, scientists have measured the seasonal changes in the gases that fill the air directly above the surface of Gale Crater on Mars. '}, {'title': \"How NASA's Mars Helicopter Will Reach the Red Planet's Surface\", 'preview': 'The small craft will seek to prove that powered, controlled flight is possible on another planet. But just getting it onto the surface of Mars will take a whole lot of ingenuity.'}, {'title': 'NASA Moves Forward With Campaign to Return Mars Samples to Earth', 'preview': 'During this next phase, the program will mature critical technologies and make critical design decisions as well as assess industry partnerships.'}, {'title': \"NASA's Curiosity Takes Selfie With 'Mary Anning' on the Red Planet\", 'preview': 'The Mars rover has drilled three samples of rock in this clay-enriched region since arriving in July.'}, {'title': \"NASA's InSight Flexes Its Arm While Its 'Mole' Hits Pause\", 'preview': \"Now that the lander's robotic arm has helped the mole get underground, it will resume science activities that have been on hold.\"}, {'title': 'Scientists Explore Outback as Testbed for Mars ', 'preview': \"Australia provides a great place for NASA's Mars 2020 and the ESA-Roscosmos ExoMars scientists to hone techniques in preparation for searching for signs ancient life on Mars.\"}, {'title': \"What's Mars Solar Conjunction, and Why Does It Matter?\", 'preview': 'NASA spacecraft at Mars are going to be on their own for a few weeks when the Sun comes between Mars and Earth, interrupting communications.'}]\n"
     ]
    }
   ],
   "source": [
    "#Combining Lists and print Dictionary\n",
    "key_list = ['title','preview']\n",
    "final_data = [{key_list[0]:a, key_list[1]:b} for a, b in zip(title_list, preview_list)]\n",
    "print(final_data)"
   ]
  }
 ],
 "metadata": {
  "kernelspec": {
   "display_name": "Python 3.9.12 ('base')",
   "language": "python",
   "name": "python3"
  },
  "language_info": {
   "codemirror_mode": {
    "name": "ipython",
    "version": 3
   },
   "file_extension": ".py",
   "mimetype": "text/x-python",
   "name": "python",
   "nbconvert_exporter": "python",
   "pygments_lexer": "ipython3",
   "version": "3.9.12"
  },
  "orig_nbformat": 4,
  "vscode": {
   "interpreter": {
    "hash": "649c1df603cb0c763ecfaa92bb521097eed9c2899b8783802d049b76a8b3378e"
   }
  }
 },
 "nbformat": 4,
 "nbformat_minor": 2
}
